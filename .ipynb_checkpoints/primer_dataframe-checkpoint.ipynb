{
 "cells": [
  {
   "cell_type": "code",
   "execution_count": 19,
   "metadata": {},
   "outputs": [
    {
     "name": "stdout",
     "output_type": "stream",
     "text": [
      "       nombre  edad    sexo\n",
      "0        Alex  25.0  hombre\n",
      "1      Manuel  35.0  hombre\n",
      "2    Cristina  22.0   Mujer\n",
      "3         Ana   NaN   mujer\n",
      "4     Antonio  21.0  hombre\n",
      "5     Yolanda  18.0   Mujer\n",
      "6       Maria  20.0   Mujer\n",
      "7   Juan Jose  23.0  Hombre\n",
      "8        Raul   NaN  Hombre\n",
      "9      Miguel  17.0  Hombre\n",
      "10     Susana  21.0   Mujer\n",
      "\n",
      "\n",
      "<class 'pandas.core.frame.DataFrame'>\n",
      "RangeIndex: 11 entries, 0 to 10\n",
      "Data columns (total 3 columns):\n",
      "nombre    11 non-null object\n",
      "edad      9 non-null float64\n",
      "sexo      11 non-null object\n",
      "dtypes: float64(1), object(2)\n",
      "memory usage: 344.0+ bytes\n",
      "None\n",
      "\n",
      "\n"
     ]
    }
   ],
   "source": [
    "# Primer Dataframe\n",
    "import pandas as pd\n",
    "import numpy as np\n",
    "import matplotlib.pyplot as plt\n",
    "data = [\n",
    "    ['Alex',25,'hombre'],\n",
    "    ['Manuel',35,'hombre'],\n",
    "    ['Cristina',22,'Mujer'],\n",
    "    ['Ana',np.nan,'mujer'],\n",
    "    ['Antonio',21,'hombre'],\n",
    "    ['Yolanda',18,'Mujer'],\n",
    "    ['Maria',20,'Mujer'],\n",
    "    ['Juan Jose',23,'Hombre'],\n",
    "    ['Raul',np.nan,'Hombre'],\n",
    "    ['Miguel',17,'Hombre'],\n",
    "    ['Susana',21,'Mujer']\n",
    "]\n",
    "df = pd.DataFrame(data,columns=['nombre','edad','sexo'])\n",
    "print (df)\n",
    "print('\\n')\n",
    "print(df.info())\n",
    "print('\\n')\n"
   ]
  },
  {
   "cell_type": "code",
   "execution_count": 22,
   "metadata": {},
   "outputs": [
    {
     "name": "stdout",
     "output_type": "stream",
     "text": [
      "        Alex    25  hombre\n",
      "0     Manuel  35.0  hombre\n",
      "1   Cristina  22.0   mujer\n",
      "2        Ana   NaN   mujer\n",
      "3    Antonio  21.0  hombre\n",
      "4  Juan Jose  18.0  hombre\n",
      "5       Raul  20.0  hombre\n",
      "6     Miguel  23.0   mujer\n",
      "7     Susana  21.0   mujer\n",
      "8      Maria  17.0   mujer\n"
     ]
    }
   ],
   "source": [
    "import pandas as pd\n",
    "import matplotlib.pyplot as plt\n",
    "import seaborn as sns\n",
    "\n",
    "datos = pd.read_csv('../datos.csv')\n",
    "df=pd.DataFrame(datos)\n",
    "print (df)"
   ]
  },
  {
   "cell_type": "code",
   "execution_count": null,
   "metadata": {},
   "outputs": [],
   "source": []
  }
 ],
 "metadata": {
  "kernelspec": {
   "display_name": "Python 3",
   "language": "python",
   "name": "python3"
  },
  "language_info": {
   "codemirror_mode": {
    "name": "ipython",
    "version": 3
   },
   "file_extension": ".py",
   "mimetype": "text/x-python",
   "name": "python",
   "nbconvert_exporter": "python",
   "pygments_lexer": "ipython3",
   "version": "3.7.0"
  }
 },
 "nbformat": 4,
 "nbformat_minor": 2
}
