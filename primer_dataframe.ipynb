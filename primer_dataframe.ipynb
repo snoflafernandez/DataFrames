{
 "cells": [
  {
   "cell_type": "code",
   "execution_count": 1,
   "metadata": {},
   "outputs": [
    {
     "name": "stdout",
     "output_type": "stream",
     "text": [
      "       nombre  edad    sexo\n",
      "0        Alex    10  hombre\n",
      "1      Manuel    12  hombre\n",
      "2    Cristina    22   Mujer\n",
      "3         Ana    13   mujer\n",
      "4     Antonio    21  hombre\n",
      "5     Yolanda    18   Mujer\n",
      "6       Maria    20   Mujer\n",
      "7   Juan Jose    23  Hombre\n",
      "8        Raul    18  Hombre\n",
      "9      Miguel    17  Hombre\n",
      "10     Susana    21   Mujer\n"
     ]
    }
   ],
   "source": [
    "# Primer Dataframe\n",
    "import pandas as pd\n",
    "data = [\n",
    "    ['Alex',10,'hombre'],\n",
    "    ['Manuel',12,'hombre'],\n",
    "    ['Cristina',22,'Mujer'],\n",
    "    ['Ana',13,'mujer'],\n",
    "    ['Antonio',21,'hombre'],\n",
    "    ['Yolanda',18,'Mujer'],\n",
    "    ['Maria',20,'Mujer'],\n",
    "    ['Juan Jose',23,'Hombre'],\n",
    "    ['Raul',18,'Hombre'],\n",
    "    ['Miguel',17,'Hombre'],\n",
    "    ['Susana',21,'Mujer']\n",
    "]\n",
    "df = pd.DataFrame(data,columns=['nombre','edad','sexo'])\n",
    "print (df)"
   ]
  },
  {
   "cell_type": "code",
   "execution_count": null,
   "metadata": {},
   "outputs": [],
   "source": []
  }
 ],
 "metadata": {
  "kernelspec": {
   "display_name": "Python 3",
   "language": "python",
   "name": "python3"
  },
  "language_info": {
   "codemirror_mode": {
    "name": "ipython",
    "version": 3
   },
   "file_extension": ".py",
   "mimetype": "text/x-python",
   "name": "python",
   "nbconvert_exporter": "python",
   "pygments_lexer": "ipython3",
   "version": "3.7.0"
  }
 },
 "nbformat": 4,
 "nbformat_minor": 2
}
